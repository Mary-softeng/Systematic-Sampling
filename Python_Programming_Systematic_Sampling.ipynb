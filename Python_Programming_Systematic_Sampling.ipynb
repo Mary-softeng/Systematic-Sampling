{
 "cells": [
  {
   "cell_type": "markdown",
   "metadata": {
    "id": "xS3olmMl3IvK"
   },
   "source": [
    "# Python Programming: Systematic Sampling"
   ]
  },
  {
   "cell_type": "code",
   "execution_count": null,
   "metadata": {
    "id": "PIf6oV4XIyXJ"
   },
   "outputs": [],
   "source": [
    "# Importing Numpy\n",
    "#\n",
    "import pandas as pd\n",
    "import numpy as np\n",
    "import string\n",
    "import random"
   ]
  },
  {
   "cell_type": "markdown",
   "metadata": {
    "id": "EFtAnH9J3KfI"
   },
   "source": [
    "## Examples "
   ]
  },
  {
   "cell_type": "code",
   "execution_count": null,
   "metadata": {
    "colab": {
     "base_uri": "https://localhost:8080/"
    },
    "id": "bzTGRvaN3EQH",
    "outputId": "1644c715-3578-4bea-8fae-7c308c36e506"
   },
   "outputs": [
    {
     "data": {
      "text/plain": [
       "{'Data': array([15000, 25000, 12000, 30000, 20000, 10000, 14000, 16000]),\n",
       " 'Index': [1, 3, 5, 7, 9, 11, 13, 15],\n",
       " 'K': 2}"
      ]
     },
     "execution_count": 20,
     "metadata": {},
     "output_type": "execute_result"
    }
   ],
   "source": [
    "\n",
    "# The idea in systematic sampling is that, given the population units numbered from 1 to  N , \n",
    "# we compute for the sampling interval, given by  k=N/n , where  n  is the number of units needed for the sample. \n",
    "# After that, we choose for the random start, number between  1  and  k. \n",
    "# This random start will be the first sample, and then the second unit in the sample is obtained by adding \n",
    "# the sampling interval to the random start, and so on. \n",
    "# There are two types of systematic sampling namely, linear and circular systematic samplings. \n",
    "# Circular systematic sampling treats the population units numbered from  1  to  N  in circular form,\n",
    "# so that if the increment step is more than the number of  N  units, say  N+2 , \n",
    "# the sample unit is the  2nd element in the population, and so on. \n",
    "# The code that we will working with can be used both for linear and circular. \n",
    "# Since there are rules in linear that are not satisfied in the function, \n",
    "# one of which is if  k  is not a whole number, despite that, however, we can always extend it to a more general function.\n",
    "# ---\n",
    "# Question: Perform systematic sampling given the following dataset:\n",
    "# ---\n",
    "#\n",
    "\n",
    "# The data\n",
    "sal_dat = np.array([25, 15, 20, 25, 18, 12, 24, 30, 15, 20, 10, 10, 11, 14, 22, 16])\n",
    "salary = sal_dat * 1000\n",
    "\n",
    "# Function for systematic sampling\n",
    "def sys_sample(df, r, n):\n",
    "    k = df.shape[0] // n\n",
    "\n",
    "    b = [None] * n; a = r\n",
    "    b[0] = a\n",
    "\n",
    "    for i in np.arange(1, n):\n",
    "        a = a + k\n",
    "\n",
    "        if a > df.shape[0]:\n",
    "            a = a - df.shape[0]\n",
    "\n",
    "        b[i] = a\n",
    "\n",
    "    return {\"Data\" : df[b], \"Index\" : b, \"K\" : k}\n",
    "\n",
    "# Do the sampling for random start,\n",
    "# r = 2, and number of sample, n = 4\n",
    "sys_sample(salary, r = 1, n = 8)"
   ]
  },
  {
   "cell_type": "markdown",
   "metadata": {
    "id": "mwlCRJBF3RMg"
   },
   "source": [
    "## <font color=\"green\">Challenges</font>"
   ]
  },
  {
   "cell_type": "code",
   "execution_count": null,
   "metadata": {
    "colab": {
     "base_uri": "https://localhost:8080/"
    },
    "id": "7e4Fjx1p3WbB",
    "outputId": "cb43e321-46ef-4130-dd35-87ae726fef90"
   },
   "outputs": [
    {
     "data": {
      "text/plain": [
       "{'Data': array([34, 39, 44, 49]), 'Index': [1, 6, 11, 16], 'K': 5}"
      ]
     },
     "execution_count": 21,
     "metadata": {},
     "output_type": "execute_result"
    }
   ],
   "source": [
    "# Challenge 1\n",
    "# ---\n",
    "# Question: Peform systematic sampling given the following dataset \n",
    "# ---\n",
    "Dataset= np.array([33, 34, 35, 36, 37, 38, 39, 40, 41, 42, 43, 44, 45, 46, 47, 48, 49, 50, 51, 52, 53, 54, 55]) \n",
    " \n",
    "# Function for systematic sampling\n",
    "def sys_sample(df, r, n):\n",
    "    k = df.shape[0] // n\n",
    "\n",
    "    b = [None] * n; a = r\n",
    "    b[0] = a\n",
    "\n",
    "    for i in np.arange(1, n):\n",
    "        a = a + k\n",
    "\n",
    "        if a > df.shape[0]:\n",
    "            a = a - df.shape[0]\n",
    "\n",
    "        b[i] = a\n",
    "\n",
    "    return {\"Data\" : df[b], \"Index\" : b, \"K\" : k}\n",
    "\n",
    "# Do the sampling for random start,\n",
    "# r = 2, and number of sample, n = 4\n",
    "sys_sample(Dataset, r = 1, n = 4)"
   ]
  },
  {
   "cell_type": "code",
   "execution_count": null,
   "metadata": {
    "colab": {
     "base_uri": "https://localhost:8080/"
    },
    "id": "F0EGvPx13aL5",
    "outputId": "f821915f-b5b8-4fc0-8c1f-eeef4aa27f66"
   },
   "outputs": [
    {
     "data": {
      "text/plain": [
       "{'Data': array([176, 451, 726]), 'Index': [1, 276, 551], 'K': 275}"
      ]
     },
     "execution_count": 22,
     "metadata": {},
     "output_type": "execute_result"
    }
   ],
   "source": [
    "# Challenge 2\n",
    "# ---\n",
    "# Question: You're given data ranging from 175 to 1000. Select a sample from this data by performing systematic sampling.\n",
    "# ---\n",
    "# \n",
    "num = range(175,1000)\n",
    "df = np.array(num)\n",
    "# Function for systematic sampling\n",
    "def sys_sample(df, r, n):\n",
    "    k = df.shape[0] // n\n",
    "\n",
    "    b = [None] * n; a = r\n",
    "    b[0] = a\n",
    "\n",
    "    for i in np.arange(1, n):\n",
    "        a = a + k\n",
    "\n",
    "        if a > df.shape[0]:\n",
    "            a = a - df.shape[0]\n",
    "\n",
    "        b[i] = a\n",
    "\n",
    "    return {\"Data\" : df[b], \"Index\" : b, \"K\" : k}\n",
    "\n",
    "# Do the sampling for random start,\n",
    "# r = 2, and number of sample, n = 4\n",
    "sys_sample(df, r = 1, n = 3)"
   ]
  },
  {
   "cell_type": "code",
   "execution_count": null,
   "metadata": {
    "colab": {
     "base_uri": "https://localhost:8080/"
    },
    "id": "R-LUyacy3cC8",
    "outputId": "f5fe7922-fd8d-4d74-8074-a83a1163af76"
   },
   "outputs": [
    {
     "data": {
      "text/plain": [
       "{'Data': array([ 2,  5,  8, 11, 14]), 'Index': [1, 4, 7, 10, 13], 'K': 3}"
      ]
     },
     "execution_count": 30,
     "metadata": {},
     "output_type": "execute_result"
    }
   ],
   "source": [
    "# Challenge 3\n",
    "# ---\n",
    "# Question: There are 19 students in this class. Let’s choose a 1-in-3 systematic sample from the 19 students in the class.\n",
    "# ---\n",
    "# \n",
    "students = np.array([1, 2, 3, 4, 5, 6, 7, 8,9, 10, 11, 12, 13, 14,15, 16,17, 18, 19]) \n",
    " \n",
    "# Function for systematic sampling\n",
    "def sys_sample(students, r, n):\n",
    "    k = students.shape[0] // n\n",
    "\n",
    "    b = [None] * n; a = r\n",
    "    b[0] = a\n",
    "\n",
    "    for i in np.arange(1, n):\n",
    "        a = a + k\n",
    "\n",
    "        if a > students.shape[0]:\n",
    "            a = a - students.shape[0]\n",
    "\n",
    "        b[i] = a\n",
    "\n",
    "    return {\"Data\" : students[b], \"Index\" : b, \"K\" : k}\n",
    "\n",
    "# Do the sampling for random start,\n",
    "# r = 2, and number of sample, n = 4\n",
    "sys_sample(students, r = 1, n =5)"
   ]
  },
  {
   "cell_type": "code",
   "execution_count": null,
   "metadata": {
    "colab": {
     "base_uri": "https://localhost:8080/"
    },
    "id": "PPCASa_7_O1Y",
    "outputId": "899d400e-ac35-46b1-ed72-998d3c111dd2"
   },
   "outputs": [
    {
     "data": {
      "text/plain": [
       "{'Data': array([ 13, 104, 195]), 'Index': [1, 92, 183], 'K': 91}"
      ]
     },
     "execution_count": 24,
     "metadata": {},
     "output_type": "execute_result"
    }
   ],
   "source": [
    "# Challenge 4\n",
    "# ---\n",
    "# Question: Select a sample from n = 12 members from a population of size N = 287. \n",
    "# ---\n",
    "# \n",
    "member = range(12,287)\n",
    "df = np.array(member)\n",
    " \n",
    "# Function for systematic sampling\n",
    "def sys_sample(df, r, n):\n",
    "    k = df.shape[0] // n\n",
    "\n",
    "    b = [None] * n; a = r\n",
    "    b[0] = a\n",
    "\n",
    "    for i in np.arange(1, n):\n",
    "        a = a + k\n",
    "\n",
    "        if a > df.shape[0]:\n",
    "            a = a - df.shape[0]\n",
    "\n",
    "        b[i] = a\n",
    "\n",
    "    return {\"Data\" : df[b], \"Index\" : b, \"K\" : k}\n",
    "\n",
    "# Do the sampling for random start,\n",
    "# r = 2, and number of sample, n = 4\n",
    "sys_sample(df, r = 1, n = 3)"
   ]
  },
  {
   "cell_type": "code",
   "execution_count": null,
   "metadata": {
    "colab": {
     "base_uri": "https://localhost:8080/"
    },
    "id": "NlQhgpmwAw8v",
    "outputId": "fe8bc62e-2db7-432a-cd78-decc8ecb170c"
   },
   "outputs": [
    {
     "data": {
      "text/plain": [
       "{'Data': 1            2\n",
       " 8804      8806\n",
       " 17607    17609\n",
       " Name: Overall, dtype: int64, 'Index': [1, 8804, 17607], 'K': 8803}"
      ]
     },
     "execution_count": 25,
     "metadata": {},
     "output_type": "execute_result"
    }
   ],
   "source": [
    "# Challenge 5\n",
    "# ---\n",
    "# Question: You work for the Olympics Data Analytics in Geneva and would like perform a study on the performance of the top marathon\n",
    "# olympics athletes. For reasons beyond your control, resort to perform systematic sampling from the given Boston 2017 marathon dataset.\n",
    "# ---\n",
    "# Question: http://bit.ly/BostonMarathonDataset\n",
    "# ---\n",
    "# \n",
    "BostonMarathon = pd.read_csv(\"http://bit.ly/BostonMarathonDataset\")\n",
    "BostonMarathon1 =BostonMarathon['Overall']\n",
    "# Function for systematic sampling\n",
    "def sys_sample(BostonMarathon1, r, n):\n",
    "    k = BostonMarathon1.shape[0] // n\n",
    "\n",
    "    b = [None] * n; a = r\n",
    "    b[0] = a\n",
    "\n",
    "    for i in np.arange(1, n):\n",
    "        a = a + k\n",
    "\n",
    "        if a > BostonMarathon1.shape[0]:\n",
    "            a = a - BostonMarathon1.shape[0]\n",
    "\n",
    "        b[i] = a\n",
    "\n",
    "    return {\"Data\" : BostonMarathon1[b], \"Index\" : b, \"K\" : k}\n",
    "\n",
    "# Do the sampling for random start,\n",
    "# r = 2, and number of sample, n = 4\n",
    "sys_sample(BostonMarathon1, r = 1, n = 3)"
   ]
  },
  {
   "cell_type": "code",
   "execution_count": null,
   "metadata": {
    "colab": {
     "base_uri": "https://localhost:8080/",
     "height": 383
    },
    "id": "idSA15QSVEh5",
    "outputId": "e4ec0a0f-6117-4869-a92f-77632b2f6a0f"
   },
   "outputs": [
    {
     "data": {
      "text/html": [
       "\n",
       "  <div id=\"df-bd314b8a-8355-4f0a-9313-ea19d1041e1f\">\n",
       "    <div class=\"colab-df-container\">\n",
       "      <div>\n",
       "<style scoped>\n",
       "    .dataframe tbody tr th:only-of-type {\n",
       "        vertical-align: middle;\n",
       "    }\n",
       "\n",
       "    .dataframe tbody tr th {\n",
       "        vertical-align: top;\n",
       "    }\n",
       "\n",
       "    .dataframe thead th {\n",
       "        text-align: right;\n",
       "    }\n",
       "</style>\n",
       "<table border=\"1\" class=\"dataframe\">\n",
       "  <thead>\n",
       "    <tr style=\"text-align: right;\">\n",
       "      <th></th>\n",
       "      <th>Unnamed: 0</th>\n",
       "      <th>Bib</th>\n",
       "      <th>Name</th>\n",
       "      <th>Age</th>\n",
       "      <th>M/F</th>\n",
       "      <th>City</th>\n",
       "      <th>State</th>\n",
       "      <th>Country</th>\n",
       "      <th>Citizen</th>\n",
       "      <th>Unnamed: 9</th>\n",
       "      <th>...</th>\n",
       "      <th>25K</th>\n",
       "      <th>30K</th>\n",
       "      <th>35K</th>\n",
       "      <th>40K</th>\n",
       "      <th>Pace</th>\n",
       "      <th>Proj Time</th>\n",
       "      <th>Official Time</th>\n",
       "      <th>Overall</th>\n",
       "      <th>Gender</th>\n",
       "      <th>Division</th>\n",
       "    </tr>\n",
       "  </thead>\n",
       "  <tbody>\n",
       "    <tr>\n",
       "      <th>0</th>\n",
       "      <td>0</td>\n",
       "      <td>11</td>\n",
       "      <td>Kirui, Geoffrey</td>\n",
       "      <td>24</td>\n",
       "      <td>M</td>\n",
       "      <td>Keringet</td>\n",
       "      <td>NaN</td>\n",
       "      <td>KEN</td>\n",
       "      <td>NaN</td>\n",
       "      <td>NaN</td>\n",
       "      <td>...</td>\n",
       "      <td>1:16:59</td>\n",
       "      <td>1:33:01</td>\n",
       "      <td>1:48:19</td>\n",
       "      <td>2:02:53</td>\n",
       "      <td>0:04:57</td>\n",
       "      <td>-</td>\n",
       "      <td>2:09:37</td>\n",
       "      <td>1</td>\n",
       "      <td>1</td>\n",
       "      <td>1</td>\n",
       "    </tr>\n",
       "    <tr>\n",
       "      <th>1</th>\n",
       "      <td>1</td>\n",
       "      <td>17</td>\n",
       "      <td>Rupp, Galen</td>\n",
       "      <td>30</td>\n",
       "      <td>M</td>\n",
       "      <td>Portland</td>\n",
       "      <td>OR</td>\n",
       "      <td>USA</td>\n",
       "      <td>NaN</td>\n",
       "      <td>NaN</td>\n",
       "      <td>...</td>\n",
       "      <td>1:16:59</td>\n",
       "      <td>1:33:01</td>\n",
       "      <td>1:48:19</td>\n",
       "      <td>2:03:14</td>\n",
       "      <td>0:04:58</td>\n",
       "      <td>-</td>\n",
       "      <td>2:09:58</td>\n",
       "      <td>2</td>\n",
       "      <td>2</td>\n",
       "      <td>2</td>\n",
       "    </tr>\n",
       "    <tr>\n",
       "      <th>2</th>\n",
       "      <td>2</td>\n",
       "      <td>23</td>\n",
       "      <td>Osako, Suguru</td>\n",
       "      <td>25</td>\n",
       "      <td>M</td>\n",
       "      <td>Machida-City</td>\n",
       "      <td>NaN</td>\n",
       "      <td>JPN</td>\n",
       "      <td>NaN</td>\n",
       "      <td>NaN</td>\n",
       "      <td>...</td>\n",
       "      <td>1:17:00</td>\n",
       "      <td>1:33:01</td>\n",
       "      <td>1:48:31</td>\n",
       "      <td>2:03:38</td>\n",
       "      <td>0:04:59</td>\n",
       "      <td>-</td>\n",
       "      <td>2:10:28</td>\n",
       "      <td>3</td>\n",
       "      <td>3</td>\n",
       "      <td>3</td>\n",
       "    </tr>\n",
       "    <tr>\n",
       "      <th>3</th>\n",
       "      <td>3</td>\n",
       "      <td>21</td>\n",
       "      <td>Biwott, Shadrack</td>\n",
       "      <td>32</td>\n",
       "      <td>M</td>\n",
       "      <td>Mammoth Lakes</td>\n",
       "      <td>CA</td>\n",
       "      <td>USA</td>\n",
       "      <td>NaN</td>\n",
       "      <td>NaN</td>\n",
       "      <td>...</td>\n",
       "      <td>1:17:00</td>\n",
       "      <td>1:33:01</td>\n",
       "      <td>1:48:58</td>\n",
       "      <td>2:04:35</td>\n",
       "      <td>0:05:03</td>\n",
       "      <td>-</td>\n",
       "      <td>2:12:08</td>\n",
       "      <td>4</td>\n",
       "      <td>4</td>\n",
       "      <td>4</td>\n",
       "    </tr>\n",
       "    <tr>\n",
       "      <th>4</th>\n",
       "      <td>4</td>\n",
       "      <td>9</td>\n",
       "      <td>Chebet, Wilson</td>\n",
       "      <td>31</td>\n",
       "      <td>M</td>\n",
       "      <td>Marakwet</td>\n",
       "      <td>NaN</td>\n",
       "      <td>KEN</td>\n",
       "      <td>NaN</td>\n",
       "      <td>NaN</td>\n",
       "      <td>...</td>\n",
       "      <td>1:16:59</td>\n",
       "      <td>1:33:01</td>\n",
       "      <td>1:48:41</td>\n",
       "      <td>2:05:00</td>\n",
       "      <td>0:05:04</td>\n",
       "      <td>-</td>\n",
       "      <td>2:12:35</td>\n",
       "      <td>5</td>\n",
       "      <td>5</td>\n",
       "      <td>5</td>\n",
       "    </tr>\n",
       "  </tbody>\n",
       "</table>\n",
       "<p>5 rows × 25 columns</p>\n",
       "</div>\n",
       "      <button class=\"colab-df-convert\" onclick=\"convertToInteractive('df-bd314b8a-8355-4f0a-9313-ea19d1041e1f')\"\n",
       "              title=\"Convert this dataframe to an interactive table.\"\n",
       "              style=\"display:none;\">\n",
       "        \n",
       "  <svg xmlns=\"http://www.w3.org/2000/svg\" height=\"24px\"viewBox=\"0 0 24 24\"\n",
       "       width=\"24px\">\n",
       "    <path d=\"M0 0h24v24H0V0z\" fill=\"none\"/>\n",
       "    <path d=\"M18.56 5.44l.94 2.06.94-2.06 2.06-.94-2.06-.94-.94-2.06-.94 2.06-2.06.94zm-11 1L8.5 8.5l.94-2.06 2.06-.94-2.06-.94L8.5 2.5l-.94 2.06-2.06.94zm10 10l.94 2.06.94-2.06 2.06-.94-2.06-.94-.94-2.06-.94 2.06-2.06.94z\"/><path d=\"M17.41 7.96l-1.37-1.37c-.4-.4-.92-.59-1.43-.59-.52 0-1.04.2-1.43.59L10.3 9.45l-7.72 7.72c-.78.78-.78 2.05 0 2.83L4 21.41c.39.39.9.59 1.41.59.51 0 1.02-.2 1.41-.59l7.78-7.78 2.81-2.81c.8-.78.8-2.07 0-2.86zM5.41 20L4 18.59l7.72-7.72 1.47 1.35L5.41 20z\"/>\n",
       "  </svg>\n",
       "      </button>\n",
       "      \n",
       "  <style>\n",
       "    .colab-df-container {\n",
       "      display:flex;\n",
       "      flex-wrap:wrap;\n",
       "      gap: 12px;\n",
       "    }\n",
       "\n",
       "    .colab-df-convert {\n",
       "      background-color: #E8F0FE;\n",
       "      border: none;\n",
       "      border-radius: 50%;\n",
       "      cursor: pointer;\n",
       "      display: none;\n",
       "      fill: #1967D2;\n",
       "      height: 32px;\n",
       "      padding: 0 0 0 0;\n",
       "      width: 32px;\n",
       "    }\n",
       "\n",
       "    .colab-df-convert:hover {\n",
       "      background-color: #E2EBFA;\n",
       "      box-shadow: 0px 1px 2px rgba(60, 64, 67, 0.3), 0px 1px 3px 1px rgba(60, 64, 67, 0.15);\n",
       "      fill: #174EA6;\n",
       "    }\n",
       "\n",
       "    [theme=dark] .colab-df-convert {\n",
       "      background-color: #3B4455;\n",
       "      fill: #D2E3FC;\n",
       "    }\n",
       "\n",
       "    [theme=dark] .colab-df-convert:hover {\n",
       "      background-color: #434B5C;\n",
       "      box-shadow: 0px 1px 3px 1px rgba(0, 0, 0, 0.15);\n",
       "      filter: drop-shadow(0px 1px 2px rgba(0, 0, 0, 0.3));\n",
       "      fill: #FFFFFF;\n",
       "    }\n",
       "  </style>\n",
       "\n",
       "      <script>\n",
       "        const buttonEl =\n",
       "          document.querySelector('#df-bd314b8a-8355-4f0a-9313-ea19d1041e1f button.colab-df-convert');\n",
       "        buttonEl.style.display =\n",
       "          google.colab.kernel.accessAllowed ? 'block' : 'none';\n",
       "\n",
       "        async function convertToInteractive(key) {\n",
       "          const element = document.querySelector('#df-bd314b8a-8355-4f0a-9313-ea19d1041e1f');\n",
       "          const dataTable =\n",
       "            await google.colab.kernel.invokeFunction('convertToInteractive',\n",
       "                                                     [key], {});\n",
       "          if (!dataTable) return;\n",
       "\n",
       "          const docLinkHtml = 'Like what you see? Visit the ' +\n",
       "            '<a target=\"_blank\" href=https://colab.research.google.com/notebooks/data_table.ipynb>data table notebook</a>'\n",
       "            + ' to learn more about interactive tables.';\n",
       "          element.innerHTML = '';\n",
       "          dataTable['output_type'] = 'display_data';\n",
       "          await google.colab.output.renderOutput(dataTable, element);\n",
       "          const docLink = document.createElement('div');\n",
       "          docLink.innerHTML = docLinkHtml;\n",
       "          element.appendChild(docLink);\n",
       "        }\n",
       "      </script>\n",
       "    </div>\n",
       "  </div>\n",
       "  "
      ],
      "text/plain": [
       "   Unnamed: 0 Bib              Name  Age M/F           City State Country  \\\n",
       "0           0  11   Kirui, Geoffrey   24   M       Keringet   NaN     KEN   \n",
       "1           1  17       Rupp, Galen   30   M       Portland    OR     USA   \n",
       "2           2  23     Osako, Suguru   25   M   Machida-City   NaN     JPN   \n",
       "3           3  21  Biwott, Shadrack   32   M  Mammoth Lakes    CA     USA   \n",
       "4           4   9    Chebet, Wilson   31   M       Marakwet   NaN     KEN   \n",
       "\n",
       "  Citizen Unnamed: 9  ...      25K      30K      35K      40K     Pace  \\\n",
       "0     NaN        NaN  ...  1:16:59  1:33:01  1:48:19  2:02:53  0:04:57   \n",
       "1     NaN        NaN  ...  1:16:59  1:33:01  1:48:19  2:03:14  0:04:58   \n",
       "2     NaN        NaN  ...  1:17:00  1:33:01  1:48:31  2:03:38  0:04:59   \n",
       "3     NaN        NaN  ...  1:17:00  1:33:01  1:48:58  2:04:35  0:05:03   \n",
       "4     NaN        NaN  ...  1:16:59  1:33:01  1:48:41  2:05:00  0:05:04   \n",
       "\n",
       "  Proj Time Official Time Overall Gender Division  \n",
       "0         -       2:09:37       1      1        1  \n",
       "1         -       2:09:58       2      2        2  \n",
       "2         -       2:10:28       3      3        3  \n",
       "3         -       2:12:08       4      4        4  \n",
       "4         -       2:12:35       5      5        5  \n",
       "\n",
       "[5 rows x 25 columns]"
      ]
     },
     "execution_count": 26,
     "metadata": {},
     "output_type": "execute_result"
    }
   ],
   "source": [
    "BostonMarathon = pd.read_csv(\"http://bit.ly/BostonMarathonDataset\")\n",
    "BostonMarathon.head()"
   ]
  }
 ],
 "metadata": {
  "colab": {
   "collapsed_sections": [],
   "name": "Python Programming: Systematic Sampling",
   "provenance": []
  },
  "kernelspec": {
   "display_name": "Python 3 (ipykernel)",
   "language": "python",
   "name": "python3"
  },
  "language_info": {
   "codemirror_mode": {
    "name": "ipython",
    "version": 3
   },
   "file_extension": ".py",
   "mimetype": "text/x-python",
   "name": "python",
   "nbconvert_exporter": "python",
   "pygments_lexer": "ipython3",
   "version": "3.8.8"
  }
 },
 "nbformat": 4,
 "nbformat_minor": 1
}
